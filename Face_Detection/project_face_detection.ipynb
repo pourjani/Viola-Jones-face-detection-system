{
 "cells": [
  {
   "cell_type": "code",
   "execution_count": 25,
   "id": "48f6b2a4-8c86-4fd4-a6b9-59514e49b4e2",
   "metadata": {},
   "outputs": [],
   "source": [
    "import numpy as np\n",
    "import cv2"
   ]
  },
  {
   "cell_type": "code",
   "execution_count": 26,
   "id": "a53aee6f-58b8-4764-83a0-f0648035c72f",
   "metadata": {},
   "outputs": [],
   "source": [
    "img = cv2.imread('faces.jpg')\n",
    "cv2.imshow('face',img)\n",
    "cv2.waitKey(0)\n",
    "cv2.destroyAllWindows()"
   ]
  },
  {
   "cell_type": "code",
   "execution_count": 27,
   "id": "7e653c89-07b7-4d06-91a4-8d791400dcee",
   "metadata": {},
   "outputs": [],
   "source": [
    "face_cascade = cv2.CascadeClassifier('./model/haarcascade_frontalface_default.xml') #loading a trained Viola–Jones detector\n"
   ]
  },
  {
   "cell_type": "code",
   "execution_count": 28,
   "id": "186f3290-ab88-49e0-93c4-b0b02a097a79",
   "metadata": {},
   "outputs": [],
   "source": [
    "def face_detection(img):\n",
    "    \n",
    "    image = img.copy()\n",
    "    img_gray = cv2.cvtColor(img, cv2.COLOR_BGR2GRAY)\n",
    "    \n",
    "    box,detections=face_cascade.detectMultiScale2(img_gray,minNeighbors=8) #detecting faces in a grayscale image using a Haar cascade\n",
    "    \n",
    "    \n",
    "    for x,y,w,h in box:\n",
    "        cv2.rectangle(image,(x,y),(x+w,y+h),(0,255,0),6) #TOP LEFT CORNER AND BOTTOM RIGHT CORNER OF THE FACE\n",
    "    \n",
    "    return image"
   ]
  },
  {
   "cell_type": "code",
   "execution_count": 29,
   "id": "527340dc-9894-49e9-ac25-a295d6b8f31e",
   "metadata": {},
   "outputs": [
    {
     "data": {
      "text/plain": [
       "array([[321,  84, 385, 385],\n",
       "       [697, 107, 248, 248],\n",
       "       [ 88,  75, 316, 316]], dtype=int32)"
      ]
     },
     "execution_count": 29,
     "metadata": {},
     "output_type": "execute_result"
    }
   ],
   "source": [
    "box #The first face is at position (321, 84) and the face area is 385 x 385 pixels"
   ]
  },
  {
   "cell_type": "code",
   "execution_count": 30,
   "id": "df45dc47-67da-4f8e-835b-a5baf35eb1e5",
   "metadata": {},
   "outputs": [
    {
     "data": {
      "text/plain": [
       "array([35, 37, 10], dtype=int32)"
      ]
     },
     "execution_count": 30,
     "metadata": {},
     "output_type": "execute_result"
    }
   ],
   "source": [
    "detections #This part shows how confident the classifier is about each face."
   ]
  },
  {
   "cell_type": "code",
   "execution_count": 31,
   "id": "2702a28b-c23a-4876-abe3-a3581c9c49ba",
   "metadata": {},
   "outputs": [],
   "source": [
    "# min neighbor meaning : How many nearby rectangles (detections) a candidate region needs to be considered a valid face."
   ]
  },
  {
   "cell_type": "code",
   "execution_count": 32,
   "id": "09bd90f4-9d36-4ae4-ac95-03f792f2619c",
   "metadata": {},
   "outputs": [],
   "source": [
    "img_detect = face_detection(img)\n",
    "cv2.imshow('face detection', img_detect)\n",
    "cv2.waitKey(0)\n",
    "cv2.destroyAllWindows()"
   ]
  },
  {
   "cell_type": "code",
   "execution_count": null,
   "id": "5b3d5596-fd97-4ae3-b713-4c0e8092fab3",
   "metadata": {},
   "outputs": [],
   "source": []
  },
  {
   "cell_type": "code",
   "execution_count": null,
   "id": "806b8372-fe23-4176-928c-9a84754b0fef",
   "metadata": {},
   "outputs": [],
   "source": []
  }
 ],
 "metadata": {
  "kernelspec": {
   "display_name": "Python 3 (ipykernel)",
   "language": "python",
   "name": "python3"
  },
  "language_info": {
   "codemirror_mode": {
    "name": "ipython",
    "version": 3
   },
   "file_extension": ".py",
   "mimetype": "text/x-python",
   "name": "python",
   "nbconvert_exporter": "python",
   "pygments_lexer": "ipython3",
   "version": "3.13.3"
  }
 },
 "nbformat": 4,
 "nbformat_minor": 5
}
